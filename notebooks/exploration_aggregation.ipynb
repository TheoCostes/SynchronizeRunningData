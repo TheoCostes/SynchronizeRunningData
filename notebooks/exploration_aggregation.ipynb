{
 "cells": [
  {
   "cell_type": "markdown",
   "source": [
    "# Import "
   ],
   "metadata": {
    "collapsed": false
   },
   "id": "fedd366c7b5185cd"
  },
  {
   "cell_type": "code",
   "execution_count": 4,
   "outputs": [],
   "source": [
    "import pandas as pd\n",
    "import os\n",
    "\n",
    "os.chdir(\"..\")"
   ],
   "metadata": {
    "collapsed": false,
    "ExecuteTime": {
     "end_time": "2024-01-11T18:42:48.416034Z",
     "start_time": "2024-01-11T18:42:48.413354Z"
    }
   },
   "id": "initial_id"
  },
  {
   "cell_type": "markdown",
   "source": [
    "# Exploration of data"
   ],
   "metadata": {
    "collapsed": false
   },
   "id": "415fb032543ae789"
  },
  {
   "cell_type": "markdown",
   "source": [
    "## Garmin"
   ],
   "metadata": {
    "collapsed": false
   },
   "id": "31ed53448d88814d"
  },
  {
   "cell_type": "code",
   "execution_count": 25,
   "outputs": [
    {
     "name": "stdout",
     "output_type": "stream",
     "text": [
      "9870926333_2022-10-28 07:28:34.csv\n",
      "10246403519_2023-01-05 06:22:42.csv\n",
      "13245094549_2023-12-27 10:39:41.csv\n",
      "11055925054_2023-05-06 09:51:51.csv\n",
      "8560976991_2022-04-01 06:27:14.csv\n",
      "9852479097_2022-10-25 06:24:01.csv\n",
      "9511691647_2022-08-31 06:29:14.csv\n",
      "10784606533_2023-03-28 07:21:36.csv\n",
      "11251613517_2023-06-02 11:34:31.csv\n",
      "12938943400_2023-12-01 07:15:32.csv\n",
      "10527845974_2023-02-17 09:40:56.csv\n",
      "8756670544_2022-05-04 06:17:02.csv\n",
      "10060001093_2022-11-30 06:17:42.csv\n",
      "9161999828_2022-07-08 06:33:16.csv\n",
      "13337154599_2024-01-03 07:07:13.csv\n",
      "12088795329_2023-09-23 15:46:14.csv\n",
      "11313222450_2023-06-10 16:51:52.csv\n",
      "8743969192_2022-05-02 06:31:42.csv\n",
      "10737632671_2023-03-21 06:32:02.csv\n",
      "11980922525_2023-09-09 09:20:24.csv\n",
      "9570179069_2022-09-09 06:17:06.csv\n",
      "10369342753_2023-01-24 06:16:58.csv\n",
      "9931891947_2022-11-07 06:05:39.csv\n",
      "10844917471_2023-04-06 06:40:42.csv\n",
      "10198139209_2022-12-28 06:30:32.csv\n",
      "10946993427_2023-04-20 17:37:13.csv\n",
      "8668442489_2022-04-19 18:24:19.csv\n",
      "10697639520_2023-03-15 06:33:25.csv\n",
      "11746038676_2023-08-09 06:32:29.csv\n",
      "11651549492_2023-07-27 07:34:30.csv\n",
      "10753033864_2023-03-23 11:39:16.csv\n",
      "13176399294_2023-12-21 07:13:23.csv\n",
      "9293586818_2022-07-28 23:09:31.csv\n",
      "8531854179_2022-03-27 08:46:50.csv\n",
      "8617127296_2022-04-11 06:26:41.csv\n",
      "10817762888_2023-04-02 10:00:44.csv\n",
      "10852842839_2023-04-07 11:55:49.csv\n",
      "9914351279_2022-11-04 07:31:52.csv\n",
      "9985066672_2022-11-16 08:57:02.csv\n",
      "10155026983_2022-12-19 06:29:51.csv\n",
      "10239923151_2023-01-04 06:43:54.csv\n",
      "9250656622_2022-07-22 08:22:33.csv\n",
      "13270272827_2023-12-29 08:14:13.csv\n",
      "7411969658_2021-09-02 07:40:51.csv\n",
      "11262217912_2023-06-03 18:53:03.csv\n",
      "8844629125_2022-05-18 06:19:30.csv\n",
      "10187043971_2022-12-26 07:29:36.csv\n",
      "9671783203_2022-09-25 10:26:21.csv\n",
      "11026172348_2023-05-02 06:42:11.csv\n",
      "8975095222_2022-06-08 05:59:06.csv\n",
      "8725727168_2022-04-29 06:56:33.csv\n",
      "12265875310_2023-10-11 06:40:57.csv\n",
      "10633322190_2023-03-05 10:08:24.csv\n",
      "11526962920_2023-07-10 08:28:14.csv\n",
      "11011481544_2023-04-30 08:58:56.csv\n",
      "8223371579_2022-02-02 06:41:28.csv\n",
      "9533548547_2022-09-03 14:06:52.csv\n",
      ".DS_Store\n"
     ]
    },
    {
     "ename": "UnicodeDecodeError",
     "evalue": "'utf-8' codec can't decode byte 0x80 in position 3131: invalid start byte",
     "output_type": "error",
     "traceback": [
      "\u001B[0;31m---------------------------------------------------------------------------\u001B[0m",
      "\u001B[0;31mUnicodeDecodeError\u001B[0m                        Traceback (most recent call last)",
      "Cell \u001B[0;32mIn[25], line 4\u001B[0m\n\u001B[1;32m      2\u001B[0m \u001B[38;5;28mprint\u001B[39m(nom_fichier)\n\u001B[1;32m      3\u001B[0m path \u001B[38;5;241m=\u001B[39m os\u001B[38;5;241m.\u001B[39mpath\u001B[38;5;241m.\u001B[39mjoin(\u001B[38;5;124m\"\u001B[39m\u001B[38;5;124m./data/garmin\u001B[39m\u001B[38;5;124m\"\u001B[39m, nom_fichier)\n\u001B[0;32m----> 4\u001B[0m test \u001B[38;5;241m=\u001B[39m \u001B[43mpd\u001B[49m\u001B[38;5;241;43m.\u001B[39;49m\u001B[43mread_csv\u001B[49m\u001B[43m(\u001B[49m\u001B[43mpath\u001B[49m\u001B[43m)\u001B[49m\n",
      "File \u001B[0;32m~/Documents/repos/SynchronizeRunningData/venv/lib/python3.9/site-packages/pandas/io/parsers/readers.py:948\u001B[0m, in \u001B[0;36mread_csv\u001B[0;34m(filepath_or_buffer, sep, delimiter, header, names, index_col, usecols, dtype, engine, converters, true_values, false_values, skipinitialspace, skiprows, skipfooter, nrows, na_values, keep_default_na, na_filter, verbose, skip_blank_lines, parse_dates, infer_datetime_format, keep_date_col, date_parser, date_format, dayfirst, cache_dates, iterator, chunksize, compression, thousands, decimal, lineterminator, quotechar, quoting, doublequote, escapechar, comment, encoding, encoding_errors, dialect, on_bad_lines, delim_whitespace, low_memory, memory_map, float_precision, storage_options, dtype_backend)\u001B[0m\n\u001B[1;32m    935\u001B[0m kwds_defaults \u001B[38;5;241m=\u001B[39m _refine_defaults_read(\n\u001B[1;32m    936\u001B[0m     dialect,\n\u001B[1;32m    937\u001B[0m     delimiter,\n\u001B[0;32m   (...)\u001B[0m\n\u001B[1;32m    944\u001B[0m     dtype_backend\u001B[38;5;241m=\u001B[39mdtype_backend,\n\u001B[1;32m    945\u001B[0m )\n\u001B[1;32m    946\u001B[0m kwds\u001B[38;5;241m.\u001B[39mupdate(kwds_defaults)\n\u001B[0;32m--> 948\u001B[0m \u001B[38;5;28;01mreturn\u001B[39;00m \u001B[43m_read\u001B[49m\u001B[43m(\u001B[49m\u001B[43mfilepath_or_buffer\u001B[49m\u001B[43m,\u001B[49m\u001B[43m \u001B[49m\u001B[43mkwds\u001B[49m\u001B[43m)\u001B[49m\n",
      "File \u001B[0;32m~/Documents/repos/SynchronizeRunningData/venv/lib/python3.9/site-packages/pandas/io/parsers/readers.py:611\u001B[0m, in \u001B[0;36m_read\u001B[0;34m(filepath_or_buffer, kwds)\u001B[0m\n\u001B[1;32m    608\u001B[0m _validate_names(kwds\u001B[38;5;241m.\u001B[39mget(\u001B[38;5;124m\"\u001B[39m\u001B[38;5;124mnames\u001B[39m\u001B[38;5;124m\"\u001B[39m, \u001B[38;5;28;01mNone\u001B[39;00m))\n\u001B[1;32m    610\u001B[0m \u001B[38;5;66;03m# Create the parser.\u001B[39;00m\n\u001B[0;32m--> 611\u001B[0m parser \u001B[38;5;241m=\u001B[39m \u001B[43mTextFileReader\u001B[49m\u001B[43m(\u001B[49m\u001B[43mfilepath_or_buffer\u001B[49m\u001B[43m,\u001B[49m\u001B[43m \u001B[49m\u001B[38;5;241;43m*\u001B[39;49m\u001B[38;5;241;43m*\u001B[39;49m\u001B[43mkwds\u001B[49m\u001B[43m)\u001B[49m\n\u001B[1;32m    613\u001B[0m \u001B[38;5;28;01mif\u001B[39;00m chunksize \u001B[38;5;129;01mor\u001B[39;00m iterator:\n\u001B[1;32m    614\u001B[0m     \u001B[38;5;28;01mreturn\u001B[39;00m parser\n",
      "File \u001B[0;32m~/Documents/repos/SynchronizeRunningData/venv/lib/python3.9/site-packages/pandas/io/parsers/readers.py:1448\u001B[0m, in \u001B[0;36mTextFileReader.__init__\u001B[0;34m(self, f, engine, **kwds)\u001B[0m\n\u001B[1;32m   1445\u001B[0m     \u001B[38;5;28mself\u001B[39m\u001B[38;5;241m.\u001B[39moptions[\u001B[38;5;124m\"\u001B[39m\u001B[38;5;124mhas_index_names\u001B[39m\u001B[38;5;124m\"\u001B[39m] \u001B[38;5;241m=\u001B[39m kwds[\u001B[38;5;124m\"\u001B[39m\u001B[38;5;124mhas_index_names\u001B[39m\u001B[38;5;124m\"\u001B[39m]\n\u001B[1;32m   1447\u001B[0m \u001B[38;5;28mself\u001B[39m\u001B[38;5;241m.\u001B[39mhandles: IOHandles \u001B[38;5;241m|\u001B[39m \u001B[38;5;28;01mNone\u001B[39;00m \u001B[38;5;241m=\u001B[39m \u001B[38;5;28;01mNone\u001B[39;00m\n\u001B[0;32m-> 1448\u001B[0m \u001B[38;5;28mself\u001B[39m\u001B[38;5;241m.\u001B[39m_engine \u001B[38;5;241m=\u001B[39m \u001B[38;5;28;43mself\u001B[39;49m\u001B[38;5;241;43m.\u001B[39;49m\u001B[43m_make_engine\u001B[49m\u001B[43m(\u001B[49m\u001B[43mf\u001B[49m\u001B[43m,\u001B[49m\u001B[43m \u001B[49m\u001B[38;5;28;43mself\u001B[39;49m\u001B[38;5;241;43m.\u001B[39;49m\u001B[43mengine\u001B[49m\u001B[43m)\u001B[49m\n",
      "File \u001B[0;32m~/Documents/repos/SynchronizeRunningData/venv/lib/python3.9/site-packages/pandas/io/parsers/readers.py:1723\u001B[0m, in \u001B[0;36mTextFileReader._make_engine\u001B[0;34m(self, f, engine)\u001B[0m\n\u001B[1;32m   1720\u001B[0m     \u001B[38;5;28;01mraise\u001B[39;00m \u001B[38;5;167;01mValueError\u001B[39;00m(msg)\n\u001B[1;32m   1722\u001B[0m \u001B[38;5;28;01mtry\u001B[39;00m:\n\u001B[0;32m-> 1723\u001B[0m     \u001B[38;5;28;01mreturn\u001B[39;00m \u001B[43mmapping\u001B[49m\u001B[43m[\u001B[49m\u001B[43mengine\u001B[49m\u001B[43m]\u001B[49m\u001B[43m(\u001B[49m\u001B[43mf\u001B[49m\u001B[43m,\u001B[49m\u001B[43m \u001B[49m\u001B[38;5;241;43m*\u001B[39;49m\u001B[38;5;241;43m*\u001B[39;49m\u001B[38;5;28;43mself\u001B[39;49m\u001B[38;5;241;43m.\u001B[39;49m\u001B[43moptions\u001B[49m\u001B[43m)\u001B[49m\n\u001B[1;32m   1724\u001B[0m \u001B[38;5;28;01mexcept\u001B[39;00m \u001B[38;5;167;01mException\u001B[39;00m:\n\u001B[1;32m   1725\u001B[0m     \u001B[38;5;28;01mif\u001B[39;00m \u001B[38;5;28mself\u001B[39m\u001B[38;5;241m.\u001B[39mhandles \u001B[38;5;129;01mis\u001B[39;00m \u001B[38;5;129;01mnot\u001B[39;00m \u001B[38;5;28;01mNone\u001B[39;00m:\n",
      "File \u001B[0;32m~/Documents/repos/SynchronizeRunningData/venv/lib/python3.9/site-packages/pandas/io/parsers/c_parser_wrapper.py:93\u001B[0m, in \u001B[0;36mCParserWrapper.__init__\u001B[0;34m(self, src, **kwds)\u001B[0m\n\u001B[1;32m     90\u001B[0m \u001B[38;5;28;01mif\u001B[39;00m kwds[\u001B[38;5;124m\"\u001B[39m\u001B[38;5;124mdtype_backend\u001B[39m\u001B[38;5;124m\"\u001B[39m] \u001B[38;5;241m==\u001B[39m \u001B[38;5;124m\"\u001B[39m\u001B[38;5;124mpyarrow\u001B[39m\u001B[38;5;124m\"\u001B[39m:\n\u001B[1;32m     91\u001B[0m     \u001B[38;5;66;03m# Fail here loudly instead of in cython after reading\u001B[39;00m\n\u001B[1;32m     92\u001B[0m     import_optional_dependency(\u001B[38;5;124m\"\u001B[39m\u001B[38;5;124mpyarrow\u001B[39m\u001B[38;5;124m\"\u001B[39m)\n\u001B[0;32m---> 93\u001B[0m \u001B[38;5;28mself\u001B[39m\u001B[38;5;241m.\u001B[39m_reader \u001B[38;5;241m=\u001B[39m \u001B[43mparsers\u001B[49m\u001B[38;5;241;43m.\u001B[39;49m\u001B[43mTextReader\u001B[49m\u001B[43m(\u001B[49m\u001B[43msrc\u001B[49m\u001B[43m,\u001B[49m\u001B[43m \u001B[49m\u001B[38;5;241;43m*\u001B[39;49m\u001B[38;5;241;43m*\u001B[39;49m\u001B[43mkwds\u001B[49m\u001B[43m)\u001B[49m\n\u001B[1;32m     95\u001B[0m \u001B[38;5;28mself\u001B[39m\u001B[38;5;241m.\u001B[39munnamed_cols \u001B[38;5;241m=\u001B[39m \u001B[38;5;28mself\u001B[39m\u001B[38;5;241m.\u001B[39m_reader\u001B[38;5;241m.\u001B[39munnamed_cols\n\u001B[1;32m     97\u001B[0m \u001B[38;5;66;03m# error: Cannot determine type of 'names'\u001B[39;00m\n",
      "File \u001B[0;32mparsers.pyx:579\u001B[0m, in \u001B[0;36mpandas._libs.parsers.TextReader.__cinit__\u001B[0;34m()\u001B[0m\n",
      "File \u001B[0;32mparsers.pyx:668\u001B[0m, in \u001B[0;36mpandas._libs.parsers.TextReader._get_header\u001B[0;34m()\u001B[0m\n",
      "File \u001B[0;32mparsers.pyx:879\u001B[0m, in \u001B[0;36mpandas._libs.parsers.TextReader._tokenize_rows\u001B[0;34m()\u001B[0m\n",
      "File \u001B[0;32mparsers.pyx:890\u001B[0m, in \u001B[0;36mpandas._libs.parsers.TextReader._check_tokenize_status\u001B[0;34m()\u001B[0m\n",
      "File \u001B[0;32mparsers.pyx:2050\u001B[0m, in \u001B[0;36mpandas._libs.parsers.raise_parser_error\u001B[0;34m()\u001B[0m\n",
      "\u001B[0;31mUnicodeDecodeError\u001B[0m: 'utf-8' codec can't decode byte 0x80 in position 3131: invalid start byte"
     ]
    }
   ],
   "source": [
    "for nom_fichier in os.listdir(\"./data/garmin\"):\n",
    "    print(nom_fichier)\n",
    "    path = os.path.join(\"./data/garmin\", nom_fichier)\n",
    "    test = pd.read_csv(path)"
   ],
   "metadata": {
    "collapsed": false,
    "ExecuteTime": {
     "end_time": "2024-01-11T20:14:12.048053Z",
     "start_time": "2024-01-11T20:14:11.834931Z"
    }
   },
   "id": "a9b9f31d4606060e"
  },
  {
   "cell_type": "code",
   "execution_count": 26,
   "outputs": [
    {
     "data": {
      "text/plain": "Intervalle                               object\nHeure                                    object\nTemps de déplacement                     object\nDistance                                 object\nGain d'altitude                          object\nPerte d'altitude                         object\nAllure moyenne                           object\nAllure moyenne en déplacement            object\nMeilleure allure                         object\nCadence de course moyenne                object\nCadence de course maximale              float64\nLongueur moyenne des foulées             object\nFréquence cardiaque moy.                 object\nFréquence cardiaque maximale             object\nTempérature moyenne                      object\nCalories                                 object\ndate                             datetime64[ns]\ndtype: object"
     },
     "execution_count": 26,
     "metadata": {},
     "output_type": "execute_result"
    }
   ],
   "source": [
    "all_garmin = pd.DataFrame()\n",
    "repertoire = \"./data/garmin\"\n",
    "# Parcourir tous les fichiers dans le répertoire\n",
    "for fichier in os.listdir(repertoire):\n",
    "    chemin_complet = os.path.join(repertoire, fichier)\n",
    "\n",
    "    # Vérifier si le fichier est un fichier CSV\n",
    "    if fichier.endswith(\".csv\"):\n",
    "        # Lire le fichier CSV en tant que DataFrame\n",
    "        date = fichier.split(\"_\")[1].replace(\".csv\",\"\")\n",
    "        df = pd.read_csv(chemin_complet)\n",
    "        df[\"date\"] = date\n",
    "        # Concaténer le DataFrame lu au DataFrame global\n",
    "        all_garmin = pd.concat([all_garmin, df], ignore_index=True)\n",
    "\n",
    "all_garmin[\"date\"] = pd.to_datetime(all_garmin[\"date\"])\n",
    "all_garmin.dtypes"
   ],
   "metadata": {
    "collapsed": false,
    "ExecuteTime": {
     "end_time": "2024-01-11T20:14:50.495924Z",
     "start_time": "2024-01-11T20:14:50.049641Z"
    }
   },
   "id": "3230208f5fdc55e0"
  },
  {
   "cell_type": "code",
   "execution_count": 27,
   "outputs": [
    {
     "data": {
      "text/plain": "    Intervalle         Heure Temps de déplacement Distance Gain d'altitude  \\\n0            1  00:03:17.539         00:03:11.000      0.5              --   \n1            2  00:03:11.478         00:03:11.478      0.5              --   \n2            3  00:03:10.147         00:03:10.147      0.5              --   \n3            4  00:03:02.270         00:03:01.000      0.5              --   \n4            5  00:02:59.871         00:02:59.871      0.5              --   \n..         ...           ...                  ...      ...             ...   \n495          2  00:05:52.379         00:05:52.379      1.0               1   \n496          3  00:05:55.692         00:05:55.692      1.0               0   \n497          4  00:05:58.398         00:05:58.000      1.0              10   \n498          5  00:05:56.685         00:05:56.685      1.0               1   \n499          6  00:05:56.174         00:05:56.000      1.0               1   \n\n    Perte d'altitude Allure moyenne Allure moyenne en déplacement  \\\n0                 20      0:06:35                       0:06:22     \n1                 15      0:06:22                       0:06:22     \n2                 --      0:06:20                       0:06:20     \n3                  8      0:06:04                       0:06:02     \n4                 --      0:05:59                       0:05:59     \n..               ...            ...                           ...   \n495               11      0:05:52                       0:05:52     \n496                1      0:05:55                       0:05:55     \n497                0      0:05:58                       0:05:58     \n498               11      0:05:56                       0:05:56     \n499                2      0:05:56                       0:05:56     \n\n    Meilleure allure Cadence de course moyenne  Cadence de course maximale  \\\n0          0:06:02                   161.15625                       171.0   \n1          0:05:52                    166.1875                       169.0   \n2          0:06:05                    167.9375                       172.0   \n3          0:05:29                   168.03125                       172.0   \n4          0:05:39                  167.546875                       170.0   \n..               ...                       ...                         ...   \n495        0:05:22                     174.375                       179.0   \n496        0:05:40                  173.828125                       179.0   \n497        0:05:51                    174.0625                       176.0   \n498        0:05:45                    172.1875                       175.0   \n499        0:05:45                  172.703125                       176.0   \n\n    Longueur moyenne des foulées Fréquence cardiaque moy.  \\\n0                      94.236956                    132.0   \n1                      94.276625                    139.0   \n2                      93.947253                    143.0   \n3                      97.952606                    147.0   \n4                       99.54599                    148.0   \n..                           ...                      ...   \n495                        98.25                    154.0   \n496                    97.729999                    157.0   \n497                    96.679999                    161.0   \n498                        97.95                    156.0   \n499                    98.020001                    161.0   \n\n    Fréquence cardiaque maximale Température moyenne Calories  \\\n0                          142.0                  --       42   \n1                          148.0                  --       43   \n2                          152.0                  --       40   \n3                          152.0                  --       44   \n4                          156.0                  --       41   \n..                           ...                 ...      ...   \n495                        159.0                  --       84   \n496                        162.0                  --       85   \n497                        166.0                  --       86   \n498                        165.0                  --       83   \n499                        165.0                  --       85   \n\n                   date  \n0   2022-10-28 07:28:34  \n1   2022-10-28 07:28:34  \n2   2022-10-28 07:28:34  \n3   2022-10-28 07:28:34  \n4   2022-10-28 07:28:34  \n..                  ...  \n495 2023-04-02 10:00:44  \n496 2023-04-02 10:00:44  \n497 2023-04-02 10:00:44  \n498 2023-04-02 10:00:44  \n499 2023-04-02 10:00:44  \n\n[500 rows x 17 columns]",
      "text/html": "<div>\n<style scoped>\n    .dataframe tbody tr th:only-of-type {\n        vertical-align: middle;\n    }\n\n    .dataframe tbody tr th {\n        vertical-align: top;\n    }\n\n    .dataframe thead th {\n        text-align: right;\n    }\n</style>\n<table border=\"1\" class=\"dataframe\">\n  <thead>\n    <tr style=\"text-align: right;\">\n      <th></th>\n      <th>Intervalle</th>\n      <th>Heure</th>\n      <th>Temps de déplacement</th>\n      <th>Distance</th>\n      <th>Gain d'altitude</th>\n      <th>Perte d'altitude</th>\n      <th>Allure moyenne</th>\n      <th>Allure moyenne en déplacement</th>\n      <th>Meilleure allure</th>\n      <th>Cadence de course moyenne</th>\n      <th>Cadence de course maximale</th>\n      <th>Longueur moyenne des foulées</th>\n      <th>Fréquence cardiaque moy.</th>\n      <th>Fréquence cardiaque maximale</th>\n      <th>Température moyenne</th>\n      <th>Calories</th>\n      <th>date</th>\n    </tr>\n  </thead>\n  <tbody>\n    <tr>\n      <th>0</th>\n      <td>1</td>\n      <td>00:03:17.539</td>\n      <td>00:03:11.000</td>\n      <td>0.5</td>\n      <td>--</td>\n      <td>20</td>\n      <td>0:06:35</td>\n      <td>0:06:22</td>\n      <td>0:06:02</td>\n      <td>161.15625</td>\n      <td>171.0</td>\n      <td>94.236956</td>\n      <td>132.0</td>\n      <td>142.0</td>\n      <td>--</td>\n      <td>42</td>\n      <td>2022-10-28 07:28:34</td>\n    </tr>\n    <tr>\n      <th>1</th>\n      <td>2</td>\n      <td>00:03:11.478</td>\n      <td>00:03:11.478</td>\n      <td>0.5</td>\n      <td>--</td>\n      <td>15</td>\n      <td>0:06:22</td>\n      <td>0:06:22</td>\n      <td>0:05:52</td>\n      <td>166.1875</td>\n      <td>169.0</td>\n      <td>94.276625</td>\n      <td>139.0</td>\n      <td>148.0</td>\n      <td>--</td>\n      <td>43</td>\n      <td>2022-10-28 07:28:34</td>\n    </tr>\n    <tr>\n      <th>2</th>\n      <td>3</td>\n      <td>00:03:10.147</td>\n      <td>00:03:10.147</td>\n      <td>0.5</td>\n      <td>--</td>\n      <td>--</td>\n      <td>0:06:20</td>\n      <td>0:06:20</td>\n      <td>0:06:05</td>\n      <td>167.9375</td>\n      <td>172.0</td>\n      <td>93.947253</td>\n      <td>143.0</td>\n      <td>152.0</td>\n      <td>--</td>\n      <td>40</td>\n      <td>2022-10-28 07:28:34</td>\n    </tr>\n    <tr>\n      <th>3</th>\n      <td>4</td>\n      <td>00:03:02.270</td>\n      <td>00:03:01.000</td>\n      <td>0.5</td>\n      <td>--</td>\n      <td>8</td>\n      <td>0:06:04</td>\n      <td>0:06:02</td>\n      <td>0:05:29</td>\n      <td>168.03125</td>\n      <td>172.0</td>\n      <td>97.952606</td>\n      <td>147.0</td>\n      <td>152.0</td>\n      <td>--</td>\n      <td>44</td>\n      <td>2022-10-28 07:28:34</td>\n    </tr>\n    <tr>\n      <th>4</th>\n      <td>5</td>\n      <td>00:02:59.871</td>\n      <td>00:02:59.871</td>\n      <td>0.5</td>\n      <td>--</td>\n      <td>--</td>\n      <td>0:05:59</td>\n      <td>0:05:59</td>\n      <td>0:05:39</td>\n      <td>167.546875</td>\n      <td>170.0</td>\n      <td>99.54599</td>\n      <td>148.0</td>\n      <td>156.0</td>\n      <td>--</td>\n      <td>41</td>\n      <td>2022-10-28 07:28:34</td>\n    </tr>\n    <tr>\n      <th>...</th>\n      <td>...</td>\n      <td>...</td>\n      <td>...</td>\n      <td>...</td>\n      <td>...</td>\n      <td>...</td>\n      <td>...</td>\n      <td>...</td>\n      <td>...</td>\n      <td>...</td>\n      <td>...</td>\n      <td>...</td>\n      <td>...</td>\n      <td>...</td>\n      <td>...</td>\n      <td>...</td>\n      <td>...</td>\n    </tr>\n    <tr>\n      <th>495</th>\n      <td>2</td>\n      <td>00:05:52.379</td>\n      <td>00:05:52.379</td>\n      <td>1.0</td>\n      <td>1</td>\n      <td>11</td>\n      <td>0:05:52</td>\n      <td>0:05:52</td>\n      <td>0:05:22</td>\n      <td>174.375</td>\n      <td>179.0</td>\n      <td>98.25</td>\n      <td>154.0</td>\n      <td>159.0</td>\n      <td>--</td>\n      <td>84</td>\n      <td>2023-04-02 10:00:44</td>\n    </tr>\n    <tr>\n      <th>496</th>\n      <td>3</td>\n      <td>00:05:55.692</td>\n      <td>00:05:55.692</td>\n      <td>1.0</td>\n      <td>0</td>\n      <td>1</td>\n      <td>0:05:55</td>\n      <td>0:05:55</td>\n      <td>0:05:40</td>\n      <td>173.828125</td>\n      <td>179.0</td>\n      <td>97.729999</td>\n      <td>157.0</td>\n      <td>162.0</td>\n      <td>--</td>\n      <td>85</td>\n      <td>2023-04-02 10:00:44</td>\n    </tr>\n    <tr>\n      <th>497</th>\n      <td>4</td>\n      <td>00:05:58.398</td>\n      <td>00:05:58.000</td>\n      <td>1.0</td>\n      <td>10</td>\n      <td>0</td>\n      <td>0:05:58</td>\n      <td>0:05:58</td>\n      <td>0:05:51</td>\n      <td>174.0625</td>\n      <td>176.0</td>\n      <td>96.679999</td>\n      <td>161.0</td>\n      <td>166.0</td>\n      <td>--</td>\n      <td>86</td>\n      <td>2023-04-02 10:00:44</td>\n    </tr>\n    <tr>\n      <th>498</th>\n      <td>5</td>\n      <td>00:05:56.685</td>\n      <td>00:05:56.685</td>\n      <td>1.0</td>\n      <td>1</td>\n      <td>11</td>\n      <td>0:05:56</td>\n      <td>0:05:56</td>\n      <td>0:05:45</td>\n      <td>172.1875</td>\n      <td>175.0</td>\n      <td>97.95</td>\n      <td>156.0</td>\n      <td>165.0</td>\n      <td>--</td>\n      <td>83</td>\n      <td>2023-04-02 10:00:44</td>\n    </tr>\n    <tr>\n      <th>499</th>\n      <td>6</td>\n      <td>00:05:56.174</td>\n      <td>00:05:56.000</td>\n      <td>1.0</td>\n      <td>1</td>\n      <td>2</td>\n      <td>0:05:56</td>\n      <td>0:05:56</td>\n      <td>0:05:45</td>\n      <td>172.703125</td>\n      <td>176.0</td>\n      <td>98.020001</td>\n      <td>161.0</td>\n      <td>165.0</td>\n      <td>--</td>\n      <td>85</td>\n      <td>2023-04-02 10:00:44</td>\n    </tr>\n  </tbody>\n</table>\n<p>500 rows × 17 columns</p>\n</div>"
     },
     "execution_count": 27,
     "metadata": {},
     "output_type": "execute_result"
    }
   ],
   "source": [
    "all_garmin.head(500)"
   ],
   "metadata": {
    "collapsed": false,
    "ExecuteTime": {
     "end_time": "2024-01-11T20:14:59.870790Z",
     "start_time": "2024-01-11T20:14:59.855713Z"
    }
   },
   "id": "b38822cb091a16b0"
  },
  {
   "cell_type": "code",
   "execution_count": 28,
   "outputs": [],
   "source": [
    "all_garmin.to_csv(\"./data/all_data_garmin.csv\")"
   ],
   "metadata": {
    "collapsed": false,
    "ExecuteTime": {
     "end_time": "2024-01-11T20:15:01.803134Z",
     "start_time": "2024-01-11T20:15:01.752166Z"
    }
   },
   "id": "88dd4217fe707584"
  },
  {
   "cell_type": "markdown",
   "source": [
    "## Strava"
   ],
   "metadata": {
    "collapsed": false
   },
   "id": "f15ecab21dcd314"
  },
  {
   "cell_type": "code",
   "execution_count": 30,
   "outputs": [
    {
     "name": "stdout",
     "output_type": "stream",
     "text": [
      "strava.csv\n"
     ]
    }
   ],
   "source": [
    "repertoire_strava = \"./data/strava\"\n",
    "for nom_fichier in os.listdir(repertoire_strava):\n",
    "    print(nom_fichier)\n",
    "    path = os.path.join(repertoire_strava, nom_fichier)\n",
    "    test = pd.read_csv(path)"
   ],
   "metadata": {
    "collapsed": false,
    "ExecuteTime": {
     "end_time": "2024-01-11T20:17:43.689411Z",
     "start_time": "2024-01-11T20:17:43.679759Z"
    }
   },
   "id": "91ef3892ba1bd41d"
  },
  {
   "cell_type": "code",
   "execution_count": 31,
   "outputs": [
    {
     "data": {
      "text/plain": "     Unnamed: 0  resource_state                                athlete  \\\n0             0               2  {'id': 98364076, 'resource_state': 1}   \n1             1               2  {'id': 98364076, 'resource_state': 1}   \n2             2               2  {'id': 98364076, 'resource_state': 1}   \n3             3               2  {'id': 98364076, 'resource_state': 1}   \n4             4               2  {'id': 98364076, 'resource_state': 1}   \n..          ...             ...                                    ...   \n459         459               2  {'id': 98364076, 'resource_state': 1}   \n460         460               2  {'id': 98364076, 'resource_state': 1}   \n461         461               2  {'id': 98364076, 'resource_state': 1}   \n462         462               2  {'id': 98364076, 'resource_state': 1}   \n463         463               2  {'id': 98364076, 'resource_state': 1}   \n\n                                           name  distance  moving_time  \\\n0    S6 - 2/4 - Prépa MDP - Variation d'allures    8541.0         2970   \n1             S5 - 1/4 - Prépa MDP - footing EF    6257.4         2400   \n2          S5 - 4/4 - Prépa MDP - Sortie longue   12634.5         4800   \n3             S5 - 3/4 - Prepa MDP - Footing EF    7324.0         2703   \n4     S5 - 2/4 - Prépa MDP - Endurance de force    8385.9         3030   \n..                                          ...       ...          ...   \n459                                Morning Walk    1005.9          718   \n460                                Evening Walk    1003.2          747   \n461                                Morning Walk     963.1          661   \n462                                Evening Walk     767.9          777   \n463                                Morning Walk    1064.0          765   \n\n     elapsed_time  total_elevation_gain  type sport_type  ...  elev_high  \\\n0            3054                  49.0   Run        Run  ...       74.4   \n1            2515                  53.0   Run        Run  ...       74.4   \n2            4841                  82.0   Run        Run  ...       74.4   \n3            2787                  46.0   Run        Run  ...       73.6   \n4            3104                  46.0   Run        Run  ...       75.4   \n..            ...                   ...   ...        ...  ...        ...   \n459           930                  14.1  Walk       Walk  ...       67.7   \n460          1017                   0.0  Walk       Walk  ...       67.5   \n461           871                  13.6  Walk       Walk  ...       67.7   \n462           903                   0.0  Walk       Walk  ...       41.3   \n463          1015                  21.0  Walk       Walk  ...       74.2   \n\n     elev_low     upload_id upload_id_str  \\\n0        25.0  1.126609e+10  1.126609e+10   \n1        25.8  1.125916e+10  1.125916e+10   \n2        26.4  1.124639e+10  1.124639e+10   \n3        26.4  1.123884e+10  1.123884e+10   \n4        27.4  1.122571e+10  1.122571e+10   \n..        ...           ...           ...   \n459      53.3  7.028789e+09  7.028789e+09   \n460      52.4  7.028790e+09  7.028790e+09   \n461      54.0  7.028790e+09  7.028790e+09   \n462      40.0  7.028790e+09  7.028790e+09   \n463      52.8  7.028790e+09  7.028790e+09   \n\n                                      external_id  from_accepted_tag  \\\n0                        garmin_ping_314484596494              False   \n1                        garmin_ping_314294001596              False   \n2                        garmin_ping_313935029998              False   \n3                        garmin_ping_313740166761              False   \n4                        garmin_ping_313360720403              False   \n..                                            ...                ...   \n459  stripped_health_data_98364076_1643636534.fit              False   \n460  stripped_health_data_98364076_1643636535.fit              False   \n461  stripped_health_data_98364076_1643636535.fit              False   \n462  stripped_health_data_98364076_1643636536.fit              False   \n463  stripped_health_data_98364076_1643636535.fit              False   \n\n     pr_count  total_photo_count  has_kudoed  suffer_score  \n0           1                  0       False          68.0  \n1           0                  0       False          36.0  \n2           0                  0       False         114.0  \n3           0                  0       False          46.0  \n4           0                  0       False          42.0  \n..        ...                ...         ...           ...  \n459         0                  0       False           NaN  \n460         0                  0       False           NaN  \n461         0                  0       False           NaN  \n462         0                  0       False           NaN  \n463         0                  0       False           NaN  \n\n[464 rows x 57 columns]",
      "text/html": "<div>\n<style scoped>\n    .dataframe tbody tr th:only-of-type {\n        vertical-align: middle;\n    }\n\n    .dataframe tbody tr th {\n        vertical-align: top;\n    }\n\n    .dataframe thead th {\n        text-align: right;\n    }\n</style>\n<table border=\"1\" class=\"dataframe\">\n  <thead>\n    <tr style=\"text-align: right;\">\n      <th></th>\n      <th>Unnamed: 0</th>\n      <th>resource_state</th>\n      <th>athlete</th>\n      <th>name</th>\n      <th>distance</th>\n      <th>moving_time</th>\n      <th>elapsed_time</th>\n      <th>total_elevation_gain</th>\n      <th>type</th>\n      <th>sport_type</th>\n      <th>...</th>\n      <th>elev_high</th>\n      <th>elev_low</th>\n      <th>upload_id</th>\n      <th>upload_id_str</th>\n      <th>external_id</th>\n      <th>from_accepted_tag</th>\n      <th>pr_count</th>\n      <th>total_photo_count</th>\n      <th>has_kudoed</th>\n      <th>suffer_score</th>\n    </tr>\n  </thead>\n  <tbody>\n    <tr>\n      <th>0</th>\n      <td>0</td>\n      <td>2</td>\n      <td>{'id': 98364076, 'resource_state': 1}</td>\n      <td>S6 - 2/4 - Prépa MDP - Variation d'allures</td>\n      <td>8541.0</td>\n      <td>2970</td>\n      <td>3054</td>\n      <td>49.0</td>\n      <td>Run</td>\n      <td>Run</td>\n      <td>...</td>\n      <td>74.4</td>\n      <td>25.0</td>\n      <td>1.126609e+10</td>\n      <td>1.126609e+10</td>\n      <td>garmin_ping_314484596494</td>\n      <td>False</td>\n      <td>1</td>\n      <td>0</td>\n      <td>False</td>\n      <td>68.0</td>\n    </tr>\n    <tr>\n      <th>1</th>\n      <td>1</td>\n      <td>2</td>\n      <td>{'id': 98364076, 'resource_state': 1}</td>\n      <td>S5 - 1/4 - Prépa MDP - footing EF</td>\n      <td>6257.4</td>\n      <td>2400</td>\n      <td>2515</td>\n      <td>53.0</td>\n      <td>Run</td>\n      <td>Run</td>\n      <td>...</td>\n      <td>74.4</td>\n      <td>25.8</td>\n      <td>1.125916e+10</td>\n      <td>1.125916e+10</td>\n      <td>garmin_ping_314294001596</td>\n      <td>False</td>\n      <td>0</td>\n      <td>0</td>\n      <td>False</td>\n      <td>36.0</td>\n    </tr>\n    <tr>\n      <th>2</th>\n      <td>2</td>\n      <td>2</td>\n      <td>{'id': 98364076, 'resource_state': 1}</td>\n      <td>S5 - 4/4 - Prépa MDP - Sortie longue</td>\n      <td>12634.5</td>\n      <td>4800</td>\n      <td>4841</td>\n      <td>82.0</td>\n      <td>Run</td>\n      <td>Run</td>\n      <td>...</td>\n      <td>74.4</td>\n      <td>26.4</td>\n      <td>1.124639e+10</td>\n      <td>1.124639e+10</td>\n      <td>garmin_ping_313935029998</td>\n      <td>False</td>\n      <td>0</td>\n      <td>0</td>\n      <td>False</td>\n      <td>114.0</td>\n    </tr>\n    <tr>\n      <th>3</th>\n      <td>3</td>\n      <td>2</td>\n      <td>{'id': 98364076, 'resource_state': 1}</td>\n      <td>S5 - 3/4 - Prepa MDP - Footing EF</td>\n      <td>7324.0</td>\n      <td>2703</td>\n      <td>2787</td>\n      <td>46.0</td>\n      <td>Run</td>\n      <td>Run</td>\n      <td>...</td>\n      <td>73.6</td>\n      <td>26.4</td>\n      <td>1.123884e+10</td>\n      <td>1.123884e+10</td>\n      <td>garmin_ping_313740166761</td>\n      <td>False</td>\n      <td>0</td>\n      <td>0</td>\n      <td>False</td>\n      <td>46.0</td>\n    </tr>\n    <tr>\n      <th>4</th>\n      <td>4</td>\n      <td>2</td>\n      <td>{'id': 98364076, 'resource_state': 1}</td>\n      <td>S5 - 2/4 - Prépa MDP - Endurance de force</td>\n      <td>8385.9</td>\n      <td>3030</td>\n      <td>3104</td>\n      <td>46.0</td>\n      <td>Run</td>\n      <td>Run</td>\n      <td>...</td>\n      <td>75.4</td>\n      <td>27.4</td>\n      <td>1.122571e+10</td>\n      <td>1.122571e+10</td>\n      <td>garmin_ping_313360720403</td>\n      <td>False</td>\n      <td>0</td>\n      <td>0</td>\n      <td>False</td>\n      <td>42.0</td>\n    </tr>\n    <tr>\n      <th>...</th>\n      <td>...</td>\n      <td>...</td>\n      <td>...</td>\n      <td>...</td>\n      <td>...</td>\n      <td>...</td>\n      <td>...</td>\n      <td>...</td>\n      <td>...</td>\n      <td>...</td>\n      <td>...</td>\n      <td>...</td>\n      <td>...</td>\n      <td>...</td>\n      <td>...</td>\n      <td>...</td>\n      <td>...</td>\n      <td>...</td>\n      <td>...</td>\n      <td>...</td>\n      <td>...</td>\n    </tr>\n    <tr>\n      <th>459</th>\n      <td>459</td>\n      <td>2</td>\n      <td>{'id': 98364076, 'resource_state': 1}</td>\n      <td>Morning Walk</td>\n      <td>1005.9</td>\n      <td>718</td>\n      <td>930</td>\n      <td>14.1</td>\n      <td>Walk</td>\n      <td>Walk</td>\n      <td>...</td>\n      <td>67.7</td>\n      <td>53.3</td>\n      <td>7.028789e+09</td>\n      <td>7.028789e+09</td>\n      <td>stripped_health_data_98364076_1643636534.fit</td>\n      <td>False</td>\n      <td>0</td>\n      <td>0</td>\n      <td>False</td>\n      <td>NaN</td>\n    </tr>\n    <tr>\n      <th>460</th>\n      <td>460</td>\n      <td>2</td>\n      <td>{'id': 98364076, 'resource_state': 1}</td>\n      <td>Evening Walk</td>\n      <td>1003.2</td>\n      <td>747</td>\n      <td>1017</td>\n      <td>0.0</td>\n      <td>Walk</td>\n      <td>Walk</td>\n      <td>...</td>\n      <td>67.5</td>\n      <td>52.4</td>\n      <td>7.028790e+09</td>\n      <td>7.028790e+09</td>\n      <td>stripped_health_data_98364076_1643636535.fit</td>\n      <td>False</td>\n      <td>0</td>\n      <td>0</td>\n      <td>False</td>\n      <td>NaN</td>\n    </tr>\n    <tr>\n      <th>461</th>\n      <td>461</td>\n      <td>2</td>\n      <td>{'id': 98364076, 'resource_state': 1}</td>\n      <td>Morning Walk</td>\n      <td>963.1</td>\n      <td>661</td>\n      <td>871</td>\n      <td>13.6</td>\n      <td>Walk</td>\n      <td>Walk</td>\n      <td>...</td>\n      <td>67.7</td>\n      <td>54.0</td>\n      <td>7.028790e+09</td>\n      <td>7.028790e+09</td>\n      <td>stripped_health_data_98364076_1643636535.fit</td>\n      <td>False</td>\n      <td>0</td>\n      <td>0</td>\n      <td>False</td>\n      <td>NaN</td>\n    </tr>\n    <tr>\n      <th>462</th>\n      <td>462</td>\n      <td>2</td>\n      <td>{'id': 98364076, 'resource_state': 1}</td>\n      <td>Evening Walk</td>\n      <td>767.9</td>\n      <td>777</td>\n      <td>903</td>\n      <td>0.0</td>\n      <td>Walk</td>\n      <td>Walk</td>\n      <td>...</td>\n      <td>41.3</td>\n      <td>40.0</td>\n      <td>7.028790e+09</td>\n      <td>7.028790e+09</td>\n      <td>stripped_health_data_98364076_1643636536.fit</td>\n      <td>False</td>\n      <td>0</td>\n      <td>0</td>\n      <td>False</td>\n      <td>NaN</td>\n    </tr>\n    <tr>\n      <th>463</th>\n      <td>463</td>\n      <td>2</td>\n      <td>{'id': 98364076, 'resource_state': 1}</td>\n      <td>Morning Walk</td>\n      <td>1064.0</td>\n      <td>765</td>\n      <td>1015</td>\n      <td>21.0</td>\n      <td>Walk</td>\n      <td>Walk</td>\n      <td>...</td>\n      <td>74.2</td>\n      <td>52.8</td>\n      <td>7.028790e+09</td>\n      <td>7.028790e+09</td>\n      <td>stripped_health_data_98364076_1643636535.fit</td>\n      <td>False</td>\n      <td>0</td>\n      <td>0</td>\n      <td>False</td>\n      <td>NaN</td>\n    </tr>\n  </tbody>\n</table>\n<p>464 rows × 57 columns</p>\n</div>"
     },
     "execution_count": 31,
     "metadata": {},
     "output_type": "execute_result"
    }
   ],
   "source": [
    "test"
   ],
   "metadata": {
    "collapsed": false,
    "ExecuteTime": {
     "end_time": "2024-01-11T20:18:17.097877Z",
     "start_time": "2024-01-11T20:18:17.092008Z"
    }
   },
   "id": "b5f369c2fd184c95"
  },
  {
   "cell_type": "code",
   "execution_count": null,
   "outputs": [],
   "source": [],
   "metadata": {
    "collapsed": false
   },
   "id": "b2b86886066bb15f"
  }
 ],
 "metadata": {
  "kernelspec": {
   "display_name": "Python 3",
   "language": "python",
   "name": "python3"
  },
  "language_info": {
   "codemirror_mode": {
    "name": "ipython",
    "version": 2
   },
   "file_extension": ".py",
   "mimetype": "text/x-python",
   "name": "python",
   "nbconvert_exporter": "python",
   "pygments_lexer": "ipython2",
   "version": "2.7.6"
  }
 },
 "nbformat": 4,
 "nbformat_minor": 5
}
